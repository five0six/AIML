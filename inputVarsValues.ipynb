{
  "nbformat": 4,
  "nbformat_minor": 0,
  "metadata": {
    "colab": {
      "provenance": [],
      "authorship_tag": "ABX9TyNEOCrVnycWj8Py/dr1BoZG",
      "include_colab_link": true
    },
    "kernelspec": {
      "name": "python3",
      "display_name": "Python 3"
    },
    "language_info": {
      "name": "python"
    }
  },
  "cells": [
    {
      "cell_type": "markdown",
      "metadata": {
        "id": "view-in-github",
        "colab_type": "text"
      },
      "source": [
        "<a href=\"https://colab.research.google.com/github/five0six/AIML/blob/main/inputVarsValues.ipynb\" target=\"_parent\"><img src=\"https://colab.research.google.com/assets/colab-badge.svg\" alt=\"Open In Colab\"/></a>"
      ]
    },
    {
      "cell_type": "code",
      "execution_count": 6,
      "metadata": {
        "colab": {
          "base_uri": "https://localhost:8080/"
        },
        "id": "r2Uqih6Zyn41",
        "outputId": "0d6059e1-8dc1-4f43-9d8e-6cd5aa40f96e"
      },
      "outputs": [
        {
          "output_type": "stream",
          "name": "stdout",
          "text": [
            "Enter a10\n",
            "enter b20\n",
            "<class 'int'>\n",
            "Output is  30\n"
          ]
        }
      ],
      "source": [
        "a=int(input(\"Enter a\"))\n",
        "b=int(input(\"enter b\"))\n",
        "print(type(a))\n",
        "c=a+b\n",
        "print(\"Output is \",c)"
      ]
    },
    {
      "cell_type": "code",
      "source": [
        "a=10\n",
        "b=20\n",
        "a,b=b,a\n",
        "print(\"a = \",a,\"b= \",b)"
      ],
      "metadata": {
        "id": "DWSbRtOfDpXD"
      },
      "execution_count": null,
      "outputs": []
    }
  ]
}